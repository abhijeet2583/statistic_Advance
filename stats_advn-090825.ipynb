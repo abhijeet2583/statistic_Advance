{
  "nbformat": 4,
  "nbformat_minor": 0,
  "metadata": {
    "colab": {
      "provenance": []
    },
    "kernelspec": {
      "name": "python3",
      "display_name": "Python 3"
    },
    "language_info": {
      "name": "python"
    }
  },
  "cells": [
    {
      "cell_type": "markdown",
      "source": [
        "              Statistic Advance-1\n",
        "\n",
        "1.What is a random variable in probability theory?\n",
        "\n",
        "Random Variable: -\n",
        "A set of possible values from random experiment.\n",
        "Eg- Tossing of a coin – Experiment is random and so outcome will be random.\n",
        "(H, T) – Random Variable and quantify random values.\n",
        "\n",
        "X= { H,T}    x={ 1,0}, X is random variable and it can take any values from set of values.\n",
        "\n",
        "2.What are the types of random variables?\n",
        "\n",
        "Ans-Types Of Random Variable\n",
        "\n",
        "a)\tDiscrete – Number of heads in coin flip\n",
        "b)\tContinuous – Height of person (Taking any values within a range)\n",
        "\n",
        "3.Explain the difference between discrete and continuous distributions?\n",
        "\n",
        "Ans-Discrete Random Variable: Discrete random variable can take finite number distinct\n",
        "values or infinite sequence of countable values.\n",
        "\n",
        "Eg - Number of heads in three-coin tosses.\n",
        "     Number of defective items in a batch.   \n",
        "\n",
        "Continuous Random Variable: Continuous random variable can take on any value within the given range or interval.\n",
        "Eg- Height of student in class\n",
        "    Time taken to run a marathon\n",
        "\n",
        "4.What is a binomial distribution, and how is it used in probability?\n",
        "\n",
        "Ans-Binomial distribution has only two outcomes. It’s also termed as “N” Bernoulli trial.\n",
        "It is also defined by only two parameters:\n",
        "a)\tThe number of trials (n)\n",
        "b)\tProbability of success in single trial (p)\n",
        "\n",
        "Binomial distribution helps to calculate the probabilities in situation with repeated and independent trials.\n",
        "P(X=x) = nCk P^k (1-p)n-k\n",
        "\n",
        "5.What is the standard normal distribution, and why is it important?\n",
        "\n",
        "Ans-Standard normal distribution is a symmetrical bell-shaped curve with mean=0 and standard deviation (sigma=1)\n",
        " Z score =  (x – u)/ sigma\n",
        "\n",
        "Importance:\n",
        "a)\tUsing Z score, easy to analyze data and compare\n",
        "b)\tcalculation of probability by observing the value in given certain range\n",
        "c)\tUsed for hypothesis testing using Z-test if sample mean differs from population mean.\n",
        "\n",
        "\n",
        "6.What is the Central Limit Theorem (CLT), and why is it critical in statistics?\n",
        "\n",
        "Ans-The Central Limit Theorem (CLT) states that the distribution of sample means will approximate a normal distribution, regardless of the original population distribution, as the sample size becomes sufficiently large.\n",
        "\n",
        "Inference:\n",
        "The CLT is essential for statistical inference, which involves generalizing about a population based on sample data.\n",
        "Normal Distribution Assumption:\n",
        "The CLT allows us to use these methods even when the population data is not normally distributed, as long as we have a sufficiently large sample size.\n",
        "\n",
        "Confidence Intervals and Hypothesis Testing:\n",
        "The CLT is fundamental in constructing confidence intervals and performing hypothesis tests, allowing us to estimate population parameters and make informed decisions.\n",
        "Quality Control:\n",
        " the CLT helps in monitoring product consistency and identifying potential issues by analyzing sample data.\n",
        "Predictive Modeling:\n",
        " CLT helps to understand the distribution of predicted values and make more reliable predictions.\n",
        "\n",
        "7.What is the significance of confidence intervals in statistical analysis?\n",
        "\n",
        "Ans- Confidence interval:\n",
        "\n",
        "\n",
        "X̄ ± Zα/2 x [ σ / √n ]\n",
        "\n",
        "Were\n",
        "X̄ = Mean\n",
        "Z = Confidence coefficient\n",
        "α = Confidence level\n",
        "σ = Standard deviation\n",
        "N = sample space\n",
        "\n",
        "Significance of Confidence Interval :\n",
        "\n",
        "•\tThey helps to measure uncertainty in predictions and estimates.\n",
        "•\tThrough this data scientists finds the reliable results instead of just giving a single number.\n",
        "•\tThey are widely used in A/B testing, machine learning, and survey analysis.\n",
        "\n",
        "8.What is the concept of expected value in a probability distribution?\n",
        "\n",
        "Ans- Expected value represents the long run average value of repetition of experiment it represents.\n",
        "\n",
        "E .V = summation xi p(xi) (i=1 to n)\n",
        "\n",
        "E(x) = (n+1)/2\n",
        "\n",
        "Example-\n",
        "If you roll a fair six-sided die, each outcome (1 to 6) has a probability of 1/6. The expected value would be (1 * 1/6) + (2 * 1/6) + (3 * 1/6) + (4 * 1/6) + (5 * 1/6) + (6 * 1/6) = 3.5\n",
        "\n",
        "\n",
        "\n",
        "\n",
        "\n"
      ],
      "metadata": {
        "id": "y0Espe28P6An"
      }
    },
    {
      "cell_type": "markdown",
      "source": [
        "9.Write a Python program to generate 1000 random numbers from a normal distribution with mean = 50 and standard deviation = 5. Compute its mean and standard deviation using NumPy and draw a histogram to visualize the distribution. (Include your Python code and output in the code box below."
      ],
      "metadata": {
        "id": "h0Mx193_Szz6"
      }
    },
    {
      "cell_type": "code",
      "source": [
        "import numpy as np\n",
        "import matplotlib.pyplot as plt\n",
        "mean = 50\n",
        "std_dev = 5\n",
        "num_samples = 1000\n",
        "random_numbers = np.random.normal(mean, std_dev, num_samples)\n",
        "\n",
        "computed_mean = np.mean(random_numbers)\n",
        "computed_std_dev = np.std(random_numbers)\n",
        "print(f\"Computed Mean: {computed_mean}\")\n",
        "print(f\"Computed Standard Deviation: {computed_std_dev}\")\n",
        "plt.hist(random_numbers, bins=30, density=True, alpha=0.6, color='g')\n",
        "plt.title('Histogram of Random Numbers from Normal Distribution')\n",
        "plt.xlabel('Value')\n",
        "plt.ylabel('Frequency')\n",
        "plt.grid(True)\n",
        "plt.show()"
      ],
      "metadata": {
        "colab": {
          "base_uri": "https://localhost:8080/",
          "height": 507
        },
        "id": "eXzV7wAOS3xV",
        "outputId": "c61a0fb7-6be2-44f4-ddd6-d13787bbeda5"
      },
      "execution_count": 3,
      "outputs": [
        {
          "output_type": "stream",
          "name": "stdout",
          "text": [
            "Computed Mean: 49.92550405593504\n",
            "Computed Standard Deviation: 4.959466395613301\n"
          ]
        },
        {
          "output_type": "display_data",
          "data": {
            "text/plain": [
              "<Figure size 640x480 with 1 Axes>"
            ],
            "image/png": "[encoded data removed]"
          },
          "metadata": {}
        }
      ]
    },
    {
      "cell_type": "markdown",
      "source": [
        "10.You are working as a data analyst for a retail company. The company has collected daily sales data for 2 years and wants you to identify the overall sales trend. daily sales = [220, 245, 210, 265, 230, 250, 260, 275, 240, 255,\n",
        "               235, 260, 245, 250, 225, 270, 265, 255, 250, 260]\n",
        "●\tExplain how you would apply the Central Limit Theorem to estimate the average sales with a 95% confidence interval.\n",
        "●\tWrite the Python code to compute the mean sales and its confidence interval. (Include your Python code and output in the code box below.)\n",
        "\n",
        "Ans-\n",
        "a) a)\n",
        "E = Z * (s / √n), where n is the sample size (20).\n",
        "E = 1.96 * (18.99 / √20) ≈ 8.32\n",
        "            Confidence Interval = x̄ ± E\n",
        "            Confidence Interval = 249.25 ± 8.32\n",
        "            Confidence Interval = (240.93, 257.57)\n",
        "            By using the above the formula, we can calculate the average sales with 95% confidence interval.\n",
        "\n"
      ],
      "metadata": {
        "id": "QNNKdeVgXCiX"
      }
    },
    {
      "cell_type": "markdown",
      "source": [],
      "metadata": {
        "id": "KBoCYuzAYLMl"
      }
    },
    {
      "cell_type": "code",
      "source": [
        "#b\n",
        "import numpy as np\n",
        "from scipy import stats\n",
        "daily_sales=[220, 245, 210, 265, 230, 250, 260, 275, 240, 255, 235, 260, 245, 250, 225, 270, 265, 255, 250, 260]\n",
        "mean_sales = np.mean(daily_sales)\n",
        "print(f\"Mean Sales: {mean_sales}\")\n",
        "confidence_interval=stats.norm.interval(0.95, loc=mean_sales, scale=np.std(daily_sales)/np.sqrt(len(daily_sales)))\n",
        "print(f\"Confidence Interval: {confidence_interval}\")\n"
      ],
      "metadata": {
        "colab": {
          "base_uri": "https://localhost:8080/"
        },
        "id": "53XBjYCUTBTi",
        "outputId": "b4e32247-91e4-498a-c030-dca85ea625bb"
      },
      "execution_count": 5,
      "outputs": [
        {
          "output_type": "stream",
          "name": "stdout",
          "text": [
            "Mean Sales: 248.25\n",
            "Confidence Interval: (np.float64(240.87486230709786), np.float64(255.62513769290214))\n"
          ]
        }
      ]
    },
    {
      "cell_type": "code",
      "source": [],
      "metadata": {
        "id": "4JLh93wvYomL"
      },
      "execution_count": null,
      "outputs": []
    }
  ]
}